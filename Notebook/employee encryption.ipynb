{
 "cells": [
  {
   "cell_type": "code",
   "execution_count": 1,
   "id": "6dec16f8",
   "metadata": {},
   "outputs": [],
   "source": [
    "import phe as paillier\n",
    "import json\n",
    "\n",
    "def storeKeys():\n",
    "\tpublic_key, private_key = paillier.generate_paillier_keypair()\n",
    "\tkeys={}\n",
    "\tkeys['public_key'] = {'n': public_key.n}\n",
    "\tkeys['private_key'] = {'p': private_key.p,'q':private_key.q}\n",
    "\twith open('keys.json', 'w') as file: \n",
    "\t\tjson.dump(keys, file)\n",
    "def getKeys():\n",
    "\twith open('keys.json', 'r') as file: \n",
    "\t\tkeys=json.load(file)\n",
    "\t\tpub_key=paillier.PaillierPublicKey(n=int(keys['public_key']['n']))\n",
    "\t\tpriv_key=paillier.PaillierPrivateKey(pub_key,keys['private_key']['p'],keys['private_key']['q'])\n",
    "\t\treturn pub_key, priv_key \n",
    "\n",
    "def serializeData(public_key, data):\n",
    "\tencrypted_data_list = [public_key.encrypt(x) for x in data]\n",
    "\tencrypted_data={}\n",
    "\tencrypted_data['public_key'] = {'n': public_key.n}\n",
    "\tencrypted_data['values'] = [(str(x.ciphertext()), x.exponent) for x in         encrypted_data_list]\n",
    "\tserialized = json.dumps(encrypted_data)\n",
    "\treturn serialized\n",
    "\n",
    "def loadAnswer():\n",
    "    with open('answer.json', 'r') as file: \n",
    "        ans=json.load(file)\n",
    "        answer=json.loads(ans)\n",
    "        return answer\n"
   ]
  },
  {
   "cell_type": "code",
   "execution_count": 2,
   "id": "99530f3d",
   "metadata": {},
   "outputs": [],
   "source": [
    "storeKeys()\n",
    "pub_key, priv_key = getKeys()\n",
    "data = age, he, al, gen = [24,4,6,1]\n",
    "serializeData(pub_key, data)\n",
    "datafile=serializeData(pub_key, data)\n",
    "with open('data.json', 'w') as file: \n",
    "    json.dump(datafile, file)\n",
    "\n"
   ]
  },
  {
   "cell_type": "code",
   "execution_count": 3,
   "id": "d8774556",
   "metadata": {},
   "outputs": [
    {
     "name": "stdout",
     "output_type": "stream",
     "text": [
      "[-3.97674029e-01  4.69364136e+02 -1.85674425e+02  1.72099476e+01]\n"
     ]
    }
   ],
   "source": [
    "import pandas as pd\n",
    "import numpy as np\n",
    "import phe as paillier\n",
    "from sklearn import preprocessing\n",
    "from sklearn.linear_model import LinearRegression\n",
    "from sklearn.model_selection import train_test_split \n",
    "from sklearn.metrics import mean_squared_error, r2_score\n",
    "\n",
    "class LinModel:\n",
    "\tdef __init__(self):\n",
    "\t\tpass\n",
    "\n",
    "\tdef getResults(self):\n",
    "\t\tdf=pd.read_csv('employee_data.csv')\n",
    "\t\ty=df.salary\n",
    "\t\tX=df.drop('salary',axis=1)\n",
    "\t\tX_train, X_test, y_train, y_test = train_test_split(X, y, test_size=0.2, random_state=0)\n",
    "\t\treg = LinearRegression().fit(X_train, y_train)\n",
    "\t\ty_pred=reg.predict(X_test)\n",
    "\t\tRMSE=pow(mean_squared_error(y_pred, y_test),0.5)\n",
    "\t\tR=r2_score(y_pred, y_test)\n",
    "\t\treturn reg, y_pred, RMSE, R\n",
    "\n",
    "\tdef getCoef(self):\n",
    "\t\treturn self.getResults()[0].coef_\n",
    "\n",
    "\n",
    "def main():\n",
    "\tcof=LinModel().getCoef()\n",
    "\tprint(cof)\n",
    "\n",
    "\n",
    "if __name__=='__main__':\n",
    "\tmain()\n"
   ]
  },
  {
   "cell_type": "code",
   "execution_count": 4,
   "id": "f3e243b4",
   "metadata": {},
   "outputs": [],
   "source": [
    "from linmodel import LinModel\n",
    "import phe as paillier\n",
    "import json\n",
    "\n",
    "def getData():\n",
    "\twith open('data.json', 'r') as file: \n",
    "\t\td=json.load(file)\n",
    "\tdata=json.loads(d)\n",
    "\treturn data\n",
    "\n",
    "def computeData():\n",
    "\tdata=getData()\n",
    "\tmycoef=LinModel().getCoef()\n",
    "\tpk=data['public_key']\n",
    "\tpubkey= paillier.PaillierPublicKey(n=int(pk['n']))\n",
    "\tenc_nums_rec = [paillier.EncryptedNumber(pubkey, int(x[0], int(x[1]))) for x in data['values']]\n",
    "\tresults=sum([mycoef[i]*enc_nums_rec[i] for i in range(len(mycoef))])\n",
    "\treturn results, pubkey\n",
    "\n",
    "def serializeData():\n",
    "\tresults, pubkey = computeData()\n",
    "\tencrypted_data={}\n",
    "\tencrypted_data['pubkey'] = {'n': pubkey.n}\n",
    "\tencrypted_data['values'] = (str(results.ciphertext()), results.exponent)\n",
    "\tserialized = json.dumps(encrypted_data)\n",
    "\treturn serialized\n",
    "\n",
    "#print(sum([data[i]*mycoef[i] for i in range(len(data))]))\n",
    "\n",
    "def main():\n",
    "\tdatafile=serializeData()\n",
    "\twith open('answer.json', 'w') as file:\n",
    "\t\tjson.dump(datafile, file)\n",
    "\n",
    "if __name__=='__main__':\n",
    "\tmain()\n",
    "\n"
   ]
  },
  {
   "cell_type": "code",
   "execution_count": 5,
   "id": "9b713358",
   "metadata": {},
   "outputs": [
    {
     "name": "stdout",
     "output_type": "stream",
     "text": [
      "771.075763388352\n"
     ]
    }
   ],
   "source": [
    "answer_file=loadAnswer()\n",
    "answer_key=paillier.PaillierPublicKey(n=int(answer_file['pubkey']['n']))\n",
    "answer = paillier.EncryptedNumber(answer_key, int(answer_file['values'][0]), int(answer_file['values'][1]))\n",
    "if (answer_key==pub_key):\n",
    "    print(priv_key.decrypt(answer))"
   ]
  },
  {
   "cell_type": "code",
   "execution_count": null,
   "id": "dd316638",
   "metadata": {},
   "outputs": [],
   "source": []
  }
 ],
 "metadata": {
  "kernelspec": {
   "display_name": "Python 3",
   "language": "python",
   "name": "python3"
  },
  "language_info": {
   "codemirror_mode": {
    "name": "ipython",
    "version": 3
   },
   "file_extension": ".py",
   "mimetype": "text/x-python",
   "name": "python",
   "nbconvert_exporter": "python",
   "pygments_lexer": "ipython3",
   "version": "3.8.8"
  }
 },
 "nbformat": 4,
 "nbformat_minor": 5
}
